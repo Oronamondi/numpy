{
 "cells": [
  {
   "cell_type": "code",
   "execution_count": 4,
   "metadata": {},
   "outputs": [
    {
     "name": "stdout",
     "output_type": "stream",
     "text": [
      "[[0. 0. 0. 0. 0. 0. 0. 0.]\n",
      " [0. 0. 0. 0. 0. 0. 0. 0.]\n",
      " [0. 0. 0. 0. 0. 0. 0. 0.]\n",
      " [0. 0. 0. 0. 0. 0. 0. 0.]\n",
      " [0. 0. 0. 0. 0. 0. 0. 0.]\n",
      " [0. 0. 0. 0. 0. 0. 0. 0.]]\n",
      "[[1. 1. 1. 1. 1. 1. 1. 1. 1. 1.]\n",
      " [1. 1. 1. 1. 1. 1. 1. 1. 1. 1.]\n",
      " [1. 1. 1. 1. 1. 1. 1. 1. 1. 1.]\n",
      " [1. 1. 1. 1. 1. 1. 1. 1. 1. 1.]\n",
      " [1. 1. 1. 1. 1. 1. 1. 1. 1. 1.]\n",
      " [1. 1. 1. 1. 1. 1. 1. 1. 1. 1.]\n",
      " [1. 1. 1. 1. 1. 1. 1. 1. 1. 1.]\n",
      " [1. 1. 1. 1. 1. 1. 1. 1. 1. 1.]\n",
      " [1. 1. 1. 1. 1. 1. 1. 1. 1. 1.]\n",
      " [1. 1. 1. 1. 1. 1. 1. 1. 1. 1.]]\n"
     ]
    }
   ],
   "source": [
    "import numpy as np\n",
    "#displays only zeros\n",
    "s=np.zeros((6,8))\n",
    "print(s)\n",
    "#displays only ones\n",
    "x=np.ones((10,10))\n",
    "print(x)"
   ]
  },
  {
   "cell_type": "code",
   "execution_count": 6,
   "metadata": {},
   "outputs": [
    {
     "name": "stdout",
     "output_type": "stream",
     "text": [
      "[[     0      1      2 ...    997    998    999]\n",
      " [  1000   1001   1002 ...   1997   1998   1999]\n",
      " [  2000   2001   2002 ...   2997   2998   2999]\n",
      " ...\n",
      " [997000 997001 997002 ... 997997 997998 997999]\n",
      " [998000 998001 998002 ... 998997 998998 998999]\n",
      " [999000 999001 999002 ... 999997 999998 999999]]\n"
     ]
    }
   ],
   "source": [
    "import numpy as np\n",
    "s=np.arange(1000000).reshape(1000,1000)\n",
    "print(s)"
   ]
  },
  {
   "cell_type": "code",
   "execution_count": 7,
   "metadata": {},
   "outputs": [
    {
     "name": "stdout",
     "output_type": "stream",
     "text": [
      "[[[ 0  1  2  3  4  5]\n",
      "  [ 6  7  8  9 10 11]\n",
      "  [12 13 14 15 16 17]\n",
      "  [18 19 20 21 22 23]\n",
      "  [24 25 26 27 28 29]]\n",
      "\n",
      " [[30 31 32 33 34 35]\n",
      "  [36 37 38 39 40 41]\n",
      "  [42 43 44 45 46 47]\n",
      "  [48 49 50 51 52 53]\n",
      "  [54 55 56 57 58 59]]]\n"
     ]
    }
   ],
   "source": [
    "#3D array\n",
    "import numpy as np\n",
    "s=np.arange(60).reshape(2,5,6)\n",
    "\n",
    "print(s)"
   ]
  },
  {
   "cell_type": "code",
   "execution_count": 9,
   "metadata": {},
   "outputs": [
    {
     "name": "stdout",
     "output_type": "stream",
     "text": [
      "[0.         0.5        0.70710678 0.8660254  1.        ]\n",
      "[1.00000000e+00 8.66025404e-01 7.07106781e-01 5.00000000e-01\n",
      " 6.12323400e-17]\n",
      "[0.00000000e+00 5.77350269e-01 1.00000000e+00 1.73205081e+00\n",
      " 1.63312394e+16]\n",
      "The inverse of cos:\n",
      "[0.         0.52359878 0.78539816 1.04719755 1.57079633]\n",
      "The inverse of sine:\n",
      "[0.         0.52359878 0.78539816 1.04719755 1.57079633]\n",
      "[ 0.         28.64788976 40.51423423 49.61960059 57.29577951]\n"
     ]
    }
   ],
   "source": [
    "#trigonometric functions\n",
    "import numpy as np\n",
    "s=np.array([0,30,45,60,90])\n",
    "#convert into radians\n",
    "sine=np.sin(s*np.pi/180)\n",
    "print(sine)\n",
    "\n",
    "cos=np.cos(s*np.pi/180)\n",
    "print(cos)\n",
    "\n",
    "tan=np.tan(s*np.pi/180)\n",
    "print(tan)\n",
    "\n",
    "#inverse trigonometric functions\n",
    "inv=np.arccos(cos)\n",
    "print(\"The inverse of cos:\")\n",
    "print(inv)\n",
    "\n",
    "inv2=np.arcsin(sine)\n",
    "print(\"The inverse of sine:\")\n",
    "print(inv2)\n",
    "\n",
    "#confirmation of values\n",
    "res=np.degrees(sine)\n",
    "print(res)\n"
   ]
  },
  {
   "cell_type": "code",
   "execution_count": 11,
   "metadata": {},
   "outputs": [
    {
     "name": "stdout",
     "output_type": "stream",
     "text": [
      "The initial values are:\n",
      "[2.45 5.67 8.9  5.   4.99]\n",
      "[2. 6. 9. 5. 5.]\n",
      "[2.4 5.7 8.9 5.  5. ]\n",
      "[ 0. 10. 10.  0.  0.]\n"
     ]
    }
   ],
   "source": [
    "#rounding off function\n",
    "import numpy as np\n",
    "s=np.array([2.45,5.67,8.9,5.0,4.99])\n",
    "print(\"The initial values are:\")\n",
    "print(s)\n",
    "a=np.around(s)\n",
    "print (a)\n",
    "b=np.around(s, decimals=1)\n",
    "print(b)\n",
    "c=np.around(s, decimals=-1)\n",
    "print(c)\n",
    "\n"
   ]
  },
  {
   "cell_type": "code",
   "execution_count": 13,
   "metadata": {},
   "outputs": [
    {
     "name": "stdout",
     "output_type": "stream",
     "text": [
      "The initial values are:\n",
      "[-2.6 -3.4  4.2 10.2 21.3]\n",
      "The new values are:\n",
      "[-3. -4.  4. 10. 21.]\n"
     ]
    }
   ],
   "source": [
    "#numpy.floor function\n",
    "import numpy as np\n",
    "s=np.array([-2.6,-3.4,4.2,10.2,21.3])\n",
    "print(\"The initial values are:\")\n",
    "print(s)\n",
    "b=np.floor(s)\n",
    "print(\"The new values are:\")\n",
    "print(b)"
   ]
  },
  {
   "cell_type": "code",
   "execution_count": 14,
   "metadata": {},
   "outputs": [
    {
     "name": "stdout",
     "output_type": "stream",
     "text": [
      "The initial values are:\n",
      "[-2.6 -3.4  4.2 10.2 21.3]\n",
      "The new values are:\n",
      "[-2. -3.  5. 11. 22.]\n"
     ]
    }
   ],
   "source": [
    "#numpy.ceil function\n",
    "import numpy as np\n",
    "s=np.array([-2.6,-3.4,4.2,10.2,21.3])\n",
    "print(\"The initial values are:\")\n",
    "print(s)\n",
    "b=np.ceil(s)\n",
    "print(\"The new values are:\")\n",
    "print(b)"
   ]
  },
  {
   "cell_type": "code",
   "execution_count": null,
   "metadata": {},
   "outputs": [],
   "source": []
  }
 ],
 "metadata": {
  "kernelspec": {
   "display_name": "Python 3",
   "language": "python",
   "name": "python3"
  },
  "language_info": {
   "codemirror_mode": {
    "name": "ipython",
    "version": 3
   },
   "file_extension": ".py",
   "mimetype": "text/x-python",
   "name": "python",
   "nbconvert_exporter": "python",
   "pygments_lexer": "ipython3",
   "version": "3.6.4"
  }
 },
 "nbformat": 4,
 "nbformat_minor": 2
}
